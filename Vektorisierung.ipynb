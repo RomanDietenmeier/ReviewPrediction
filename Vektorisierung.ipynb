{
 "cells": [
  {
   "cell_type": "code",
   "execution_count": null,
   "id": "aba5e26c-8502-4ca5-a441-13a704c299de",
   "metadata": {},
   "outputs": [],
   "source": [
    "import sys\n",
    "import pandas\n",
    "from sklearn.feature_extraction.text import CountVectorizer\n",
    "from sklearn.feature_extraction.text import TfidfVectorizer\n",
    "\n",
    "sys.version"
   ]
  },
  {
   "cell_type": "code",
   "execution_count": null,
   "id": "86337c96-b844-414f-b77b-e45cb91924c5",
   "metadata": {},
   "outputs": [],
   "source": [
    "csv=pandas.read_csv(\"./dataset.csv\",sep=\";\")\n",
    "\n",
    "def combindeFunc(left):\n",
    "    return left\n",
    "\n",
    "csv[\"review_body\"]"
   ]
  },
  {
   "cell_type": "code",
   "execution_count": null,
   "id": "e0e6fba8-0735-402a-abc8-0f73dccf2657",
   "metadata": {},
   "outputs": [],
   "source": [
    "# create the transform\n",
    "vectorizerCount = CountVectorizer()\n",
    "# tokenize and build vocab\n",
    "vectorizerCount.fit(csv[\"review_body\"])\n",
    "# summarize\n",
    "#print(vectorizerCount.vocabulary_)\n",
    "\n",
    "# sample text\n",
    "text = [\"The quick brown fox jumped over the lazy dog.\"]\n",
    "\n",
    "\n",
    "# encode document\n",
    "vector = vectorizerCount.transform(text)\n",
    "# summarize encoded vector\n",
    "print(f\"shape: {vector.shape}\")\n",
    "print(f\"type of a vector: {type(vector)}\")\n",
    "print(f\"Vector array {vector.toarray()}\")\n",
    "\n",
    "\n"
   ]
  },
  {
   "cell_type": "code",
   "execution_count": null,
   "id": "299d1be9-e176-4a7c-9561-f2733bdb984c",
   "metadata": {},
   "outputs": [],
   "source": [
    "# create the transform\n",
    "vectorizerTfidf = TfidfVectorizer()\n",
    "# tokenize and build vocab\n",
    "vectorizerTfidf.fit(csv[\"review_body\"])\n",
    "# summarize\n",
    "#print(vectorizerTfidf.vocabulary_)\n",
    "print(vectorizerTfidf.idf_)\n",
    "\n",
    "# sample texts\n",
    "text = [\"The quick brown fox jumped over the lazy dog.\",\n",
    "\t\t\"The dog.\",\n",
    "\t\t\"The fox\"]\n",
    "\n",
    "\n",
    "# encode document\n",
    "vector = vectorizer.transform([text[0]])\n",
    "# summarize encoded vector\n",
    "print(vector.shape)\n",
    "print(vector.toarray())"
   ]
  }
 ],
 "metadata": {
  "kernelspec": {
   "display_name": "Python 3 (ipykernel)",
   "language": "python",
   "name": "python3"
  },
  "language_info": {
   "codemirror_mode": {
    "name": "ipython",
    "version": 3
   },
   "file_extension": ".py",
   "mimetype": "text/x-python",
   "name": "python",
   "nbconvert_exporter": "python",
   "pygments_lexer": "ipython3",
   "version": "3.11.3"
  }
 },
 "nbformat": 4,
 "nbformat_minor": 5
}
