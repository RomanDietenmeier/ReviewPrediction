{
 "cells": [
  {
   "cell_type": "code",
   "execution_count": 32,
   "id": "aba5e26c-8502-4ca5-a441-13a704c299de",
   "metadata": {},
   "outputs": [
    {
     "data": {
      "text/plain": [
       "'3.11.3 (tags/v3.11.3:f3909b8, Apr  4 2023, 23:49:59) [MSC v.1934 64 bit (AMD64)]'"
      ]
     },
     "execution_count": 32,
     "metadata": {},
     "output_type": "execute_result"
    }
   ],
   "source": [
    "import sys\n",
    "import pandas\n",
    "from sklearn.feature_extraction.text import CountVectorizer\n",
    "from sklearn.feature_extraction.text import TfidfVectorizer\n",
    "\n",
    "sys.version"
   ]
  },
  {
   "cell_type": "code",
   "execution_count": 26,
   "id": "86337c96-b844-414f-b77b-e45cb91924c5",
   "metadata": {},
   "outputs": [
    {
     "data": {
      "text/plain": [
       "0       Das Produkt kam bis heute nicht bei mir an. Ic...\n",
       "1       Gebrauchte Spinner, teilzerlegt und teilweise ...\n",
       "2       Bei beiden Bestellungen war jeweils eine Glühb...\n",
       "3                                  Sofort zurückgeschickt\n",
       "4       wie man auf den Fotos erkennen kann ist das Gl...\n",
       "                              ...                        \n",
       "4995    Habe es nach Anleitung verwendet und bin mehr ...\n",
       "4996    Sehr schnelle Lieferung , Super Preis Leistung...\n",
       "4997    wie soll ich das Panzerglas beschreiben. Fast ...\n",
       "4998    Alles einwandfrei, Lieferung, Produkt und Serv...\n",
       "4999    Super Tasche! Sehr pflegeleichtes Material, pe...\n",
       "Name: review_body, Length: 5000, dtype: object"
      ]
     },
     "execution_count": 26,
     "metadata": {},
     "output_type": "execute_result"
    }
   ],
   "source": [
    "csv=pandas.read_csv(\"./dataset.csv\",sep=\";\")\n",
    "\n",
    "def combindeFunc(left):\n",
    "    return left\n",
    "\n",
    "csv[\"review_body\"]"
   ]
  },
  {
   "cell_type": "code",
   "execution_count": 37,
   "id": "e0e6fba8-0735-402a-abc8-0f73dccf2657",
   "metadata": {},
   "outputs": [
    {
     "name": "stdout",
     "output_type": "stream",
     "text": [
      "shape: (1, 15163)\n",
      "type of a vector: <class 'scipy.sparse._csr.csr_matrix'>\n",
      "Vector array [[0 0 0 ... 0 0 0]]\n"
     ]
    }
   ],
   "source": [
    "# create the transform\n",
    "vectorizerCount = CountVectorizer()\n",
    "# tokenize and build vocab\n",
    "vectorizerCount.fit(csv[\"review_body\"])\n",
    "# summarize\n",
    "#print(vectorizerCount.vocabulary_)\n",
    "\n",
    "# sample text\n",
    "text = [\"The quick brown fox jumped over the lazy dog.\"]\n",
    "\n",
    "\n",
    "# encode document\n",
    "vector = vectorizerCount.transform(text)\n",
    "# summarize encoded vector\n",
    "print(f\"shape: {vector.shape}\")\n",
    "print(f\"type of a vector: {type(vector)}\")\n",
    "print(f\"Vector array {vector.toarray()}\")\n",
    "\n",
    "\n"
   ]
  },
  {
   "cell_type": "code",
   "execution_count": 36,
   "id": "299d1be9-e176-4a7c-9561-f2733bdb984c",
   "metadata": {},
   "outputs": [
    {
     "name": "stdout",
     "output_type": "stream",
     "text": [
      "[8.41878088 8.41878088 8.82424599 ... 8.82424599 8.82424599 8.82424599]\n",
      "(1, 15163)\n",
      "[[0. 0. 0. ... 0. 0. 0.]]\n"
     ]
    }
   ],
   "source": [
    "# create the transform\n",
    "vectorizerTfidf = TfidfVectorizer()\n",
    "# tokenize and build vocab\n",
    "vectorizerTfidf.fit(csv[\"review_body\"])\n",
    "# summarize\n",
    "#print(vectorizerTfidf.vocabulary_)\n",
    "print(vectorizerTfidf.idf_)\n",
    "\n",
    "# sample texts\n",
    "text = [\"The quick brown fox jumped over the lazy dog.\",\n",
    "\t\t\"The dog.\",\n",
    "\t\t\"The fox\"]\n",
    "\n",
    "\n",
    "# encode document\n",
    "vector = vectorizer.transform([text[0]])\n",
    "# summarize encoded vector\n",
    "print(vector.shape)\n",
    "print(vector.toarray())"
   ]
  }
 ],
 "metadata": {
  "kernelspec": {
   "display_name": "Python 3 (ipykernel)",
   "language": "python",
   "name": "python3"
  },
  "language_info": {
   "codemirror_mode": {
    "name": "ipython",
    "version": 3
   },
   "file_extension": ".py",
   "mimetype": "text/x-python",
   "name": "python",
   "nbconvert_exporter": "python",
   "pygments_lexer": "ipython3",
   "version": "3.11.3"
  }
 },
 "nbformat": 4,
 "nbformat_minor": 5
}
